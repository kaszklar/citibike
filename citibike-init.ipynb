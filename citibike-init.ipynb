{
 "cells": [
  {
   "cell_type": "code",
   "execution_count": 153,
   "metadata": {},
   "outputs": [],
   "source": [
    "from sqlalchemy import create_engine\n",
    "import pandas as pd\n",
    "import numpy as np\n",
    "from datetime import datetime\n",
    "from dateutil.parser import parse\n",
    "import seaborn as sns\n",
    "sns.set()\n",
    "import re\n",
    "import pickle"
   ]
  },
  {
   "cell_type": "code",
   "execution_count": 243,
   "metadata": {},
   "outputs": [],
   "source": [
    "# with open('my_data.pkl', 'wb') as picklefile:\n",
    "#     pickle.dump(data, picklefile)\n",
    "    \n",
    "# with open(\"my_data.pkl\", 'rb') as picklefile: \n",
    "#     my_old_data = pickle.load(picklefile)"
   ]
  },
  {
   "cell_type": "code",
   "execution_count": 9,
   "metadata": {},
   "outputs": [
    {
     "name": "stderr",
     "output_type": "stream",
     "text": [
      "/anaconda3/lib/python3.6/site-packages/psycopg2/__init__.py:144: UserWarning: The psycopg2 wheel package will be renamed from release 2.8; in order to keep installing from binary please use \"pip install psycopg2-binary\" instead. For details see: <http://initd.org/psycopg/docs/install.html#binary-install-from-pypi>.\n",
      "  \"\"\")\n"
     ]
    }
   ],
   "source": [
    "cnx = create_engine('postgresql://postgres@18.212.219.23:5432/postgres')\n",
    "#cnx = create_engine('postgresql://username:password@ip_address:port/dbname')\n",
    "#port ~ 5432"
   ]
  },
  {
   "cell_type": "code",
   "execution_count": 291,
   "metadata": {},
   "outputs": [],
   "source": [
    "df=pd.read_sql_query('''SELECT * FROM biketrips ORDER BY RANDOM() LIMIT 100000''',cnx)"
   ]
  },
  {
   "cell_type": "code",
   "execution_count": 292,
   "metadata": {},
   "outputs": [],
   "source": [
    "df.set_index('id', inplace=True, drop=False)"
   ]
  },
  {
   "cell_type": "code",
   "execution_count": 293,
   "metadata": {},
   "outputs": [
    {
     "data": {
      "text/plain": [
       "682"
      ]
     },
     "execution_count": 293,
     "metadata": {},
     "output_type": "execute_result"
    }
   ],
   "source": [
    "df.birthyear.isnull().sum()"
   ]
  },
  {
   "cell_type": "markdown",
   "metadata": {},
   "source": [
    "### Start here if working from pickle\n",
    "**\"100k_sample.pkl\"** Sample of 100,000 observations from bike trips, without geographic information  \n",
    "**\"manhattan.pkl\"** ~11M rows of trips only taking place in manhattan, without user info, bike info, etc"
   ]
  },
  {
   "cell_type": "code",
   "execution_count": 294,
   "metadata": {},
   "outputs": [],
   "source": [
    "#import pickle\n",
    "\n",
    "# with open('100k_sample.pkl', 'wb') as picklefile:\n",
    "#      pickle.dump(df, picklefile)"
   ]
  },
  {
   "cell_type": "code",
   "execution_count": null,
   "metadata": {},
   "outputs": [],
   "source": [
    "with open(\"manhattan.pkl\", 'rb') as picklefile: \n",
    "     df = pickle.load(picklefile)"
   ]
  },
  {
   "cell_type": "code",
   "execution_count": null,
   "metadata": {},
   "outputs": [],
   "source": [
    "df=df.sample(n=100000, random_state=42)"
   ]
  },
  {
   "cell_type": "code",
   "execution_count": 298,
   "metadata": {},
   "outputs": [],
   "source": [
    "usertypelist=df['usertype'].value_counts()"
   ]
  },
  {
   "cell_type": "code",
   "execution_count": 299,
   "metadata": {},
   "outputs": [],
   "source": [
    "subscribers=usertypelist[0]\n",
    "customers=usertypelist[1]"
   ]
  },
  {
   "cell_type": "code",
   "execution_count": 300,
   "metadata": {},
   "outputs": [
    {
     "data": {
      "text/plain": [
       "103"
      ]
     },
     "execution_count": 300,
     "metadata": {},
     "output_type": "execute_result"
    }
   ],
   "source": [
    "df.usertype.isnull().sum()"
   ]
  },
  {
   "cell_type": "code",
   "execution_count": 301,
   "metadata": {},
   "outputs": [
    {
     "data": {
      "text/plain": [
       "tripduration          0\n",
       "starttime             0\n",
       "stoptime              0\n",
       "startstationid        0\n",
       "startstationname      0\n",
       "startstationlat       0\n",
       "startstationlong      0\n",
       "endstationid          0\n",
       "endstationname        0\n",
       "endstationlat         0\n",
       "endstationlong        0\n",
       "bikeid                0\n",
       "usertype            103\n",
       "birthyear           682\n",
       "gender                0\n",
       "id                    0\n",
       "dtype: int64"
      ]
     },
     "execution_count": 301,
     "metadata": {},
     "output_type": "execute_result"
    }
   ],
   "source": [
    "df.isnull().sum()"
   ]
  },
  {
   "cell_type": "code",
   "execution_count": 302,
   "metadata": {},
   "outputs": [],
   "source": [
    "#drop rows with no usertype information\n",
    "df.dropna(axis='index', subset=['usertype'], inplace=True)"
   ]
  },
  {
   "cell_type": "code",
   "execution_count": 303,
   "metadata": {},
   "outputs": [
    {
     "data": {
      "text/plain": [
       "0"
      ]
     },
     "execution_count": 303,
     "metadata": {},
     "output_type": "execute_result"
    }
   ],
   "source": [
    "df.usertype.isnull().sum()"
   ]
  },
  {
   "cell_type": "code",
   "execution_count": 306,
   "metadata": {},
   "outputs": [],
   "source": [
    "# convert NULL strings in \"birthyear\" to NoneType in order to convert birthyear col to float\n",
    "df['birthyear']=df['birthyear'].replace(to_replace=['NULL'], value=None)\n",
    "df.birthyear=df.birthyear.astype(float,copy=False)"
   ]
  },
  {
   "cell_type": "code",
   "execution_count": 307,
   "metadata": {},
   "outputs": [],
   "source": [
    "#strip spaces in 'usertype'\n",
    "df['usertype']=[x.strip() for x in df['usertype']]"
   ]
  },
  {
   "cell_type": "code",
   "execution_count": 308,
   "metadata": {},
   "outputs": [],
   "source": [
    "#turn target categories into numbers: subscriber=0, customer=1\n",
    "usermap={'Subscriber':0,'Customer':1}\n",
    "df['target']=df.loc[:,'usertype'].map(usermap)"
   ]
  },
  {
   "cell_type": "code",
   "execution_count": 309,
   "metadata": {},
   "outputs": [],
   "source": [
    "#create col for \"presence of birthyear\"  none provided=1, birth provided=0\n",
    "def labelBirth(row):\n",
    "    if row['birthyear']>0:\n",
    "        return 0\n",
    "    else:\n",
    "        return 1\n",
    "    \n",
    "df['birthgiven']=df.apply(lambda row: labelBirth(row),axis=1)"
   ]
  },
  {
   "cell_type": "code",
   "execution_count": 310,
   "metadata": {},
   "outputs": [
    {
     "name": "stdout",
     "output_type": "stream",
     "text": [
      "Percentage of customers who gave birthyear: 5\n"
     ]
    }
   ],
   "source": [
    "#~600 customers gave birthyear (out of 11k)\n",
    "mask = ((df[\"target\"] == 1) & \n",
    "        (df[\"birthgiven\"] == 1))\n",
    "print(\"Percentage of customers who gave birthyear: \" +str(int(len(df[mask])/customers*100)))"
   ]
  },
  {
   "cell_type": "code",
   "execution_count": 311,
   "metadata": {},
   "outputs": [
    {
     "name": "stdout",
     "output_type": "stream",
     "text": [
      "Percentage of subscribers with no birth year or unlikely birthyear: 1.74\n"
     ]
    }
   ],
   "source": [
    "#~100 subscribers didn't give birthyear (out of 89k)\n",
    "#~91 subscribers indicated unreasonable birth year (above age 80)\n",
    "mask = ((df[\"target\"] == 0) & \n",
    "        ((df[\"birthyear\"]<1937)|\n",
    "        df['birthyear'].isnull()))\n",
    "print(\"Percentage of subscribers with no birth year or unlikely birthyear: \" + str(round(len(df[mask])/customers*100, 2)))"
   ]
  },
  {
   "cell_type": "code",
   "execution_count": 312,
   "metadata": {},
   "outputs": [
    {
     "name": "stdout",
     "output_type": "stream",
     "text": [
      "Percentage of customers who did provide gender:17\n",
      "Percent of subscribers who did provide gender: 98\n"
     ]
    }
   ],
   "source": [
    "#~9k customers didn't gave gender (out of 11k)\n",
    "#~1k subscribers didn't give gender (out of 89k)\n",
    "# NOTE 0=unknown, 1=male, 2=female\n",
    "mask = ((df[\"target\"] == 1) & #customer\n",
    "        (df[\"gender\"] == 0))\n",
    "print(\"Percentage of customers who did provide gender:\" + str(int(100-(len(df[mask])/customers*100))))\n",
    "\n",
    "mask = ((df[\"target\"] == 0) & #subscriber\n",
    "        (df[\"gender\"] == 0))\n",
    "print(\"Percent of subscribers who did provide gender: \" +str(int(100-(len(df[mask])/subscribers*100))))"
   ]
  },
  {
   "cell_type": "code",
   "execution_count": 313,
   "metadata": {},
   "outputs": [],
   "source": [
    "# create column indicating the hour in which the trip started\n",
    "df['hour']=[x.hour for x in df['starttime']]"
   ]
  },
  {
   "cell_type": "code",
   "execution_count": 314,
   "metadata": {},
   "outputs": [],
   "source": [
    "stationsgeo=pd.read_csv(\"selfstationsgeo.csv\")\n",
    "stationsgeo=stationsgeo.set_index(stationsgeo['id'])"
   ]
  },
  {
   "cell_type": "code",
   "execution_count": 315,
   "metadata": {},
   "outputs": [],
   "source": [
    "def get_geos(df,stationsgeo):\n",
    "    df['id']=df.index\n",
    "    start=df[['startstationid']].join(stationsgeo[['hood', 'boro']], on='startstationid', how='left')\n",
    "    tempdf=df.merge(start, left_index=True, right_index=True)\n",
    "    tempdf.drop(columns=['startstationid_y'], inplace=True)\n",
    "    startcolrenames={\"startstationid_x\":\"startstationid\",\"hood\":\"starthood\",'boro':\"startboro\"}\n",
    "    tempdf.rename(startcolrenames, axis=\"columns\",inplace=True)\n",
    "    \n",
    "    df=tempdf\n",
    "    \n",
    "    end=df[['endstationid']].join(stationsgeo[['hood', 'boro']], on='endstationid', how='left')\n",
    "    tempdf=df.merge(end, left_index=True, right_index=True)\n",
    "    tempdf.drop(columns=['endstationid_y'], inplace=True)\n",
    "    endcolrenames={\"endstationid_x\":\"endstationid\",\"hood\":\"endhood\",'boro':\"endboro\"}\n",
    "    tempdf.rename(endcolrenames, axis=\"columns\",inplace=True)\n",
    "    \n",
    "    #for i in ['starthood','startboro','endhood','endboro']:\n",
    "        #tempdf[i]=tempdf[i].fillna(value=0)\n",
    "        \n",
    "    tempdf=tempdf.drop(columns=['id'])\n",
    "    \n",
    "    return tempdf"
   ]
  },
  {
   "cell_type": "code",
   "execution_count": 316,
   "metadata": {},
   "outputs": [],
   "source": [
    "df=get_geos(df,stationsgeo)"
   ]
  },
  {
   "cell_type": "code",
   "execution_count": 323,
   "metadata": {},
   "outputs": [
    {
     "data": {
      "text/plain": [
       "Index(['tripduration', 'starttime', 'stoptime', 'startstationid',\n",
       "       'startstationname', 'startstationlat', 'startstationlong',\n",
       "       'endstationid', 'endstationname', 'endstationlat', 'endstationlong',\n",
       "       'bikeid', 'usertype', 'birthyear', 'gender', 'target', 'birthgiven',\n",
       "       'hour', 'starthood', 'startboro', 'endhood', 'endboro'],\n",
       "      dtype='object')"
      ]
     },
     "execution_count": 323,
     "metadata": {},
     "output_type": "execute_result"
    }
   ],
   "source": [
    "df.columns"
   ]
  },
  {
   "cell_type": "code",
   "execution_count": 324,
   "metadata": {},
   "outputs": [],
   "source": [
    "exportdf=df.drop(columns=['starttime', 'stoptime','startstationname', 'startstationlat', 'startstationlong','endstationname', 'endstationlat', 'endstationlong','bikeid', 'gender', 'birthyear', 'birthgiven', 'usertype'])"
   ]
  },
  {
   "cell_type": "code",
   "execution_count": 326,
   "metadata": {},
   "outputs": [
    {
     "data": {
      "text/plain": [
       "Index(['tripduration', 'startstationid', 'endstationid', 'target', 'hour',\n",
       "       'starthood', 'startboro', 'endhood', 'endboro'],\n",
       "      dtype='object')"
      ]
     },
     "execution_count": 326,
     "metadata": {},
     "output_type": "execute_result"
    }
   ],
   "source": [
    "exportdf.columns"
   ]
  },
  {
   "cell_type": "code",
   "execution_count": 327,
   "metadata": {},
   "outputs": [
    {
     "data": {
      "text/plain": [
       "99897"
      ]
     },
     "execution_count": 327,
     "metadata": {},
     "output_type": "execute_result"
    }
   ],
   "source": [
    "len(exportdf)"
   ]
  },
  {
   "cell_type": "code",
   "execution_count": 328,
   "metadata": {},
   "outputs": [],
   "source": [
    "exportdf.dropna(axis=0,how='any',inplace=True)"
   ]
  },
  {
   "cell_type": "code",
   "execution_count": 329,
   "metadata": {},
   "outputs": [
    {
     "data": {
      "text/plain": [
       "54142"
      ]
     },
     "execution_count": 329,
     "metadata": {},
     "output_type": "execute_result"
    }
   ],
   "source": [
    "len(exportdf)"
   ]
  },
  {
   "cell_type": "code",
   "execution_count": 330,
   "metadata": {},
   "outputs": [],
   "source": [
    "exportdf.to_csv(\"cleaned.csv\")"
   ]
  },
  {
   "cell_type": "code",
   "execution_count": null,
   "metadata": {},
   "outputs": [],
   "source": []
  },
  {
   "cell_type": "code",
   "execution_count": null,
   "metadata": {},
   "outputs": [],
   "source": []
  }
 ],
 "metadata": {
  "kernelspec": {
   "display_name": "Python 3",
   "language": "python",
   "name": "python3"
  },
  "language_info": {
   "codemirror_mode": {
    "name": "ipython",
    "version": 3
   },
   "file_extension": ".py",
   "mimetype": "text/x-python",
   "name": "python",
   "nbconvert_exporter": "python",
   "pygments_lexer": "ipython3",
   "version": "3.6.6"
  }
 },
 "nbformat": 4,
 "nbformat_minor": 2
}
