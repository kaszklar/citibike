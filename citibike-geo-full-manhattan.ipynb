{
 "cells": [
  {
   "cell_type": "code",
   "execution_count": 2,
   "metadata": {},
   "outputs": [],
   "source": [
    "from sqlalchemy import create_engine\n",
    "import pandas as pd\n",
    "import numpy as np\n",
    "from datetime import datetime\n",
    "from dateutil.parser import parse\n",
    "import pickle\n",
    "from shapely.geometry import Polygon\n",
    "from shapely.geometry import Point\n",
    "from shapely.geometry import MultiPoint\n",
    "\n",
    "\n",
    "import matplotlib.pyplot as plt\n",
    "%matplotlib inline\n",
    "import seaborn as sns\n",
    "sns.set(style=\"whitegrid\")\n",
    "\n",
    "from sklearn.ensemble import RandomForestClassifier\n",
    "from sklearn.naive_bayes import GaussianNB\n",
    "from sklearn.tree import DecisionTreeClassifier\n",
    "from sklearn.neighbors import KNeighborsClassifier\n",
    "from sklearn.linear_model import LogisticRegression\n",
    "import xgboost as xgb\n",
    "from sklearn import metrics\n",
    "from sklearn.model_selection import train_test_split\n",
    "from sklearn.model_selection import cross_val_score\n",
    "from sklearn.metrics import accuracy_score\n",
    "from sklearn.metrics import f1_score\n",
    "import imblearn.under_sampling\n",
    "from sklearn.metrics import roc_curve\n",
    "from sklearn.metrics import roc_auc_score\n",
    "from sklearn.metrics import precision_score\n",
    "from sklearn.metrics import recall_score\n",
    "from sklearn.metrics import confusion_matrix\n",
    "from sklearn.metrics import classification_report\n",
    "from sklearn.metrics import mean_squared_error"
   ]
  },
  {
   "cell_type": "code",
   "execution_count": 3,
   "metadata": {},
   "outputs": [],
   "source": [
    "# def CreateSQLTable(sqltablename, df):\n",
    "#     SqlDtype = ''\n",
    "#     ret_str = 'CREATE TABLE ' + sqltablename + ' (\\n'\n",
    "#     for col in df:\n",
    "#         if df[col].dtype == 'int64':\n",
    "#             SqlDtype = 'INT'\n",
    "#         if df[col].dtype == 'float64':\n",
    "#             SqlDtype = 'DOUBLE PRECISION'\n",
    "#         if df[col].dtype == 'object':\n",
    "#             SqlDtype = 'TEXT'\n",
    "#         ret_str = ret_str + col + '\\t' + SqlDtype + ',' + '\\n'\n",
    "#     ret_str = ret_str[:-2] + ');'\n",
    "#     return print(ret_str)"
   ]
  },
  {
   "cell_type": "code",
   "execution_count": 4,
   "metadata": {},
   "outputs": [
    {
     "name": "stderr",
     "output_type": "stream",
     "text": [
      "/home/ubuntu/anaconda3/lib/python3.6/site-packages/psycopg2/__init__.py:144: UserWarning: The psycopg2 wheel package will be renamed from release 2.8; in order to keep installing from binary please use \"pip install psycopg2-binary\" instead. For details see: <http://initd.org/psycopg/docs/install.html#binary-install-from-pypi>.\n",
      "  \"\"\")\n"
     ]
    }
   ],
   "source": [
    "cnx = create_engine('postgresql://postgres@localhost:5432/postgres')"
   ]
  },
  {
   "cell_type": "code",
   "execution_count": 5,
   "metadata": {},
   "outputs": [],
   "source": [
    "df=pd.read_sql_query('''SELECT * FROM manhattan''',cnx)\n"
   ]
  },
  {
   "cell_type": "markdown",
   "metadata": {},
   "source": [
    "From data source; This data has been processed to remove trips that are taken by staff as they service and inspect the system, trips that are taken to/from any of our “test” stations (which we were using more in June and July 2013), and any trips that were below 60 seconds in length (potentially false starts or users trying to re-dock a bike to ensure it's secure)."
   ]
  },
  {
   "cell_type": "code",
   "execution_count": 4,
   "metadata": {},
   "outputs": [
    {
     "data": {
      "text/html": [
       "<div>\n",
       "<style scoped>\n",
       "    .dataframe tbody tr th:only-of-type {\n",
       "        vertical-align: middle;\n",
       "    }\n",
       "\n",
       "    .dataframe tbody tr th {\n",
       "        vertical-align: top;\n",
       "    }\n",
       "\n",
       "    .dataframe thead th {\n",
       "        text-align: right;\n",
       "    }\n",
       "</style>\n",
       "<table border=\"1\" class=\"dataframe\">\n",
       "  <thead>\n",
       "    <tr style=\"text-align: right;\">\n",
       "      <th></th>\n",
       "      <th>tripduration</th>\n",
       "      <th>startstationid</th>\n",
       "      <th>startstationlat</th>\n",
       "      <th>startstationlong</th>\n",
       "      <th>endstationid</th>\n",
       "      <th>endstationlat</th>\n",
       "      <th>endstationlong</th>\n",
       "      <th>usertype</th>\n",
       "      <th>id</th>\n",
       "      <th>startid</th>\n",
       "      <th>ssid</th>\n",
       "      <th>startstationboro</th>\n",
       "      <th>startstationhood</th>\n",
       "      <th>endid</th>\n",
       "      <th>esid</th>\n",
       "      <th>endstationboro</th>\n",
       "      <th>endstationhood</th>\n",
       "      <th>hoursid</th>\n",
       "      <th>hour</th>\n",
       "    </tr>\n",
       "  </thead>\n",
       "  <tbody>\n",
       "    <tr>\n",
       "      <th>0</th>\n",
       "      <td>1023</td>\n",
       "      <td>2006</td>\n",
       "      <td>40.765909</td>\n",
       "      <td>-73.976342</td>\n",
       "      <td>3282</td>\n",
       "      <td>40.783070</td>\n",
       "      <td>-73.959390</td>\n",
       "      <td>Customer</td>\n",
       "      <td>4796</td>\n",
       "      <td>4796</td>\n",
       "      <td>2006</td>\n",
       "      <td>manhattan</td>\n",
       "      <td>midtown</td>\n",
       "      <td>4796</td>\n",
       "      <td>3282</td>\n",
       "      <td>manhattan</td>\n",
       "      <td>uptown</td>\n",
       "      <td>4796</td>\n",
       "      <td>12.0</td>\n",
       "    </tr>\n",
       "    <tr>\n",
       "      <th>1</th>\n",
       "      <td>1627</td>\n",
       "      <td>368</td>\n",
       "      <td>40.730386</td>\n",
       "      <td>-74.002150</td>\n",
       "      <td>2006</td>\n",
       "      <td>40.765909</td>\n",
       "      <td>-73.976342</td>\n",
       "      <td>Subscriber</td>\n",
       "      <td>5757</td>\n",
       "      <td>5757</td>\n",
       "      <td>368</td>\n",
       "      <td>manhattan</td>\n",
       "      <td>village</td>\n",
       "      <td>5757</td>\n",
       "      <td>2006</td>\n",
       "      <td>manhattan</td>\n",
       "      <td>midtown</td>\n",
       "      <td>5757</td>\n",
       "      <td>13.0</td>\n",
       "    </tr>\n",
       "    <tr>\n",
       "      <th>2</th>\n",
       "      <td>3788</td>\n",
       "      <td>3160</td>\n",
       "      <td>40.778968</td>\n",
       "      <td>-73.973747</td>\n",
       "      <td>3165</td>\n",
       "      <td>40.775794</td>\n",
       "      <td>-73.976206</td>\n",
       "      <td>Customer</td>\n",
       "      <td>6930</td>\n",
       "      <td>6930</td>\n",
       "      <td>3160</td>\n",
       "      <td>manhattan</td>\n",
       "      <td>uptown</td>\n",
       "      <td>6930</td>\n",
       "      <td>3165</td>\n",
       "      <td>manhattan</td>\n",
       "      <td>uptown</td>\n",
       "      <td>6930</td>\n",
       "      <td>14.0</td>\n",
       "    </tr>\n",
       "    <tr>\n",
       "      <th>3</th>\n",
       "      <td>772</td>\n",
       "      <td>340</td>\n",
       "      <td>40.712690</td>\n",
       "      <td>-73.987763</td>\n",
       "      <td>259</td>\n",
       "      <td>40.701221</td>\n",
       "      <td>-74.012342</td>\n",
       "      <td>Subscriber</td>\n",
       "      <td>7291</td>\n",
       "      <td>7291</td>\n",
       "      <td>340</td>\n",
       "      <td>manhattan</td>\n",
       "      <td>village</td>\n",
       "      <td>7291</td>\n",
       "      <td>259</td>\n",
       "      <td>manhattan</td>\n",
       "      <td>fidi</td>\n",
       "      <td>7291</td>\n",
       "      <td>14.0</td>\n",
       "    </tr>\n",
       "    <tr>\n",
       "      <th>4</th>\n",
       "      <td>2047</td>\n",
       "      <td>3163</td>\n",
       "      <td>40.773407</td>\n",
       "      <td>-73.977825</td>\n",
       "      <td>3323</td>\n",
       "      <td>40.798186</td>\n",
       "      <td>-73.960591</td>\n",
       "      <td>Customer</td>\n",
       "      <td>7867</td>\n",
       "      <td>7867</td>\n",
       "      <td>3163</td>\n",
       "      <td>manhattan</td>\n",
       "      <td>uptown</td>\n",
       "      <td>7867</td>\n",
       "      <td>3323</td>\n",
       "      <td>manhattan</td>\n",
       "      <td>uptown</td>\n",
       "      <td>7867</td>\n",
       "      <td>14.0</td>\n",
       "    </tr>\n",
       "  </tbody>\n",
       "</table>\n",
       "</div>"
      ],
      "text/plain": [
       "   tripduration  startstationid  startstationlat  startstationlong  \\\n",
       "0          1023            2006        40.765909        -73.976342   \n",
       "1          1627             368        40.730386        -74.002150   \n",
       "2          3788            3160        40.778968        -73.973747   \n",
       "3           772             340        40.712690        -73.987763   \n",
       "4          2047            3163        40.773407        -73.977825   \n",
       "\n",
       "   endstationid  endstationlat  endstationlong    usertype    id  startid  \\\n",
       "0          3282      40.783070      -73.959390  Customer    4796     4796   \n",
       "1          2006      40.765909      -73.976342  Subscriber  5757     5757   \n",
       "2          3165      40.775794      -73.976206  Customer    6930     6930   \n",
       "3           259      40.701221      -74.012342  Subscriber  7291     7291   \n",
       "4          3323      40.798186      -73.960591  Customer    7867     7867   \n",
       "\n",
       "   ssid startstationboro startstationhood  endid  esid endstationboro  \\\n",
       "0  2006        manhattan          midtown   4796  3282      manhattan   \n",
       "1   368        manhattan          village   5757  2006      manhattan   \n",
       "2  3160        manhattan           uptown   6930  3165      manhattan   \n",
       "3   340        manhattan          village   7291   259      manhattan   \n",
       "4  3163        manhattan           uptown   7867  3323      manhattan   \n",
       "\n",
       "  endstationhood  hoursid  hour  \n",
       "0         uptown     4796  12.0  \n",
       "1        midtown     5757  13.0  \n",
       "2         uptown     6930  14.0  \n",
       "3           fidi     7291  14.0  \n",
       "4         uptown     7867  14.0  "
      ]
     },
     "execution_count": 4,
     "metadata": {},
     "output_type": "execute_result"
    }
   ],
   "source": [
    "df.head()"
   ]
  },
  {
   "cell_type": "code",
   "execution_count": 7,
   "metadata": {},
   "outputs": [],
   "source": [
    "df.set_index(df['id'], inplace=True)"
   ]
  },
  {
   "cell_type": "code",
   "execution_count": 8,
   "metadata": {},
   "outputs": [],
   "source": [
    "df.drop(columns=['id','startid', 'ssid', 'endid', 'esid','hoursid'], inplace=True)"
   ]
  },
  {
   "cell_type": "code",
   "execution_count": 9,
   "metadata": {},
   "outputs": [
    {
     "data": {
      "text/html": [
       "<div>\n",
       "<style scoped>\n",
       "    .dataframe tbody tr th:only-of-type {\n",
       "        vertical-align: middle;\n",
       "    }\n",
       "\n",
       "    .dataframe tbody tr th {\n",
       "        vertical-align: top;\n",
       "    }\n",
       "\n",
       "    .dataframe thead th {\n",
       "        text-align: right;\n",
       "    }\n",
       "</style>\n",
       "<table border=\"1\" class=\"dataframe\">\n",
       "  <thead>\n",
       "    <tr style=\"text-align: right;\">\n",
       "      <th></th>\n",
       "      <th>tripduration</th>\n",
       "      <th>startstationid</th>\n",
       "      <th>startstationlat</th>\n",
       "      <th>startstationlong</th>\n",
       "      <th>endstationid</th>\n",
       "      <th>endstationlat</th>\n",
       "      <th>endstationlong</th>\n",
       "      <th>hour</th>\n",
       "    </tr>\n",
       "  </thead>\n",
       "  <tbody>\n",
       "    <tr>\n",
       "      <th>count</th>\n",
       "      <td>1.150116e+07</td>\n",
       "      <td>1.150116e+07</td>\n",
       "      <td>1.150116e+07</td>\n",
       "      <td>1.150116e+07</td>\n",
       "      <td>1.150116e+07</td>\n",
       "      <td>1.150116e+07</td>\n",
       "      <td>1.150116e+07</td>\n",
       "      <td>1.150116e+07</td>\n",
       "    </tr>\n",
       "    <tr>\n",
       "      <th>mean</th>\n",
       "      <td>8.676842e+02</td>\n",
       "      <td>1.183972e+03</td>\n",
       "      <td>4.074582e+01</td>\n",
       "      <td>-7.398723e+01</td>\n",
       "      <td>1.172239e+03</td>\n",
       "      <td>4.074548e+01</td>\n",
       "      <td>-7.398739e+01</td>\n",
       "      <td>1.386553e+01</td>\n",
       "    </tr>\n",
       "    <tr>\n",
       "      <th>std</th>\n",
       "      <td>5.772294e+03</td>\n",
       "      <td>1.266084e+03</td>\n",
       "      <td>2.275281e-02</td>\n",
       "      <td>1.514019e-02</td>\n",
       "      <td>1.260892e+03</td>\n",
       "      <td>2.266614e-02</td>\n",
       "      <td>1.519664e-02</td>\n",
       "      <td>4.787711e+00</td>\n",
       "    </tr>\n",
       "    <tr>\n",
       "      <th>min</th>\n",
       "      <td>6.100000e+01</td>\n",
       "      <td>7.200000e+01</td>\n",
       "      <td>4.070122e+01</td>\n",
       "      <td>-7.401713e+01</td>\n",
       "      <td>7.200000e+01</td>\n",
       "      <td>4.070122e+01</td>\n",
       "      <td>-7.401713e+01</td>\n",
       "      <td>0.000000e+00</td>\n",
       "    </tr>\n",
       "    <tr>\n",
       "      <th>25%</th>\n",
       "      <td>3.830000e+02</td>\n",
       "      <td>3.580000e+02</td>\n",
       "      <td>4.072904e+01</td>\n",
       "      <td>-7.399725e+01</td>\n",
       "      <td>3.580000e+02</td>\n",
       "      <td>4.072885e+01</td>\n",
       "      <td>-7.399726e+01</td>\n",
       "      <td>1.000000e+01</td>\n",
       "    </tr>\n",
       "    <tr>\n",
       "      <th>50%</th>\n",
       "      <td>6.230000e+02</td>\n",
       "      <td>4.790000e+02</td>\n",
       "      <td>4.074475e+01</td>\n",
       "      <td>-7.398856e+01</td>\n",
       "      <td>4.780000e+02</td>\n",
       "      <td>4.074445e+01</td>\n",
       "      <td>-7.398860e+01</td>\n",
       "      <td>1.500000e+01</td>\n",
       "    </tr>\n",
       "    <tr>\n",
       "      <th>75%</th>\n",
       "      <td>1.043000e+03</td>\n",
       "      <td>3.132000e+03</td>\n",
       "      <td>4.076088e+01</td>\n",
       "      <td>-7.397791e+01</td>\n",
       "      <td>3.002000e+03</td>\n",
       "      <td>4.076088e+01</td>\n",
       "      <td>-7.397806e+01</td>\n",
       "      <td>1.800000e+01</td>\n",
       "    </tr>\n",
       "    <tr>\n",
       "      <th>max</th>\n",
       "      <td>6.350358e+06</td>\n",
       "      <td>3.649000e+03</td>\n",
       "      <td>4.081439e+01</td>\n",
       "      <td>-7.393118e+01</td>\n",
       "      <td>3.649000e+03</td>\n",
       "      <td>4.081439e+01</td>\n",
       "      <td>-7.393118e+01</td>\n",
       "      <td>2.300000e+01</td>\n",
       "    </tr>\n",
       "  </tbody>\n",
       "</table>\n",
       "</div>"
      ],
      "text/plain": [
       "       tripduration  startstationid  startstationlat  startstationlong  \\\n",
       "count  1.150116e+07    1.150116e+07     1.150116e+07      1.150116e+07   \n",
       "mean   8.676842e+02    1.183972e+03     4.074582e+01     -7.398723e+01   \n",
       "std    5.772294e+03    1.266084e+03     2.275281e-02      1.514019e-02   \n",
       "min    6.100000e+01    7.200000e+01     4.070122e+01     -7.401713e+01   \n",
       "25%    3.830000e+02    3.580000e+02     4.072904e+01     -7.399725e+01   \n",
       "50%    6.230000e+02    4.790000e+02     4.074475e+01     -7.398856e+01   \n",
       "75%    1.043000e+03    3.132000e+03     4.076088e+01     -7.397791e+01   \n",
       "max    6.350358e+06    3.649000e+03     4.081439e+01     -7.393118e+01   \n",
       "\n",
       "       endstationid  endstationlat  endstationlong          hour  \n",
       "count  1.150116e+07   1.150116e+07    1.150116e+07  1.150116e+07  \n",
       "mean   1.172239e+03   4.074548e+01   -7.398739e+01  1.386553e+01  \n",
       "std    1.260892e+03   2.266614e-02    1.519664e-02  4.787711e+00  \n",
       "min    7.200000e+01   4.070122e+01   -7.401713e+01  0.000000e+00  \n",
       "25%    3.580000e+02   4.072885e+01   -7.399726e+01  1.000000e+01  \n",
       "50%    4.780000e+02   4.074445e+01   -7.398860e+01  1.500000e+01  \n",
       "75%    3.002000e+03   4.076088e+01   -7.397806e+01  1.800000e+01  \n",
       "max    3.649000e+03   4.081439e+01   -7.393118e+01  2.300000e+01  "
      ]
     },
     "execution_count": 9,
     "metadata": {},
     "output_type": "execute_result"
    }
   ],
   "source": [
    "df.describe()"
   ]
  },
  {
   "cell_type": "markdown",
   "metadata": {},
   "source": [
    "### Start here if working from pickled or csvdata"
   ]
  },
  {
   "cell_type": "code",
   "execution_count": 2,
   "metadata": {},
   "outputs": [],
   "source": [
    "#### PICKLE OR CSV #####\n",
    "\n",
    "# with open('manhattan.pkl', 'wb') as picklefile:\n",
    "#     pickle.dump(df, picklefile)\n",
    "\n",
    "# with open(\"manhattan.pkl\", 'rb') as picklefile: \n",
    "#      df = pickle.load(picklefile)\n",
    "\n",
    "# pickles: manhattan.pkl - this is 11M rows\n",
    "# csvs: manhattan100kgeo.csv more rough, in order to include distance and speed\n",
    "#      manhattanonly100k.csv very clean, just geographic data\n",
    "\n",
    "#mdf.sample(n=100000, random_state=42).to_csv('manhattan100kgeo.csv')\n",
    "#df=pd.read_csv(\"manhattan100kgeo.csv\")"
   ]
  },
  {
   "cell_type": "code",
   "execution_count": 8,
   "metadata": {},
   "outputs": [
    {
     "data": {
      "text/html": [
       "<div>\n",
       "<style scoped>\n",
       "    .dataframe tbody tr th:only-of-type {\n",
       "        vertical-align: middle;\n",
       "    }\n",
       "\n",
       "    .dataframe tbody tr th {\n",
       "        vertical-align: top;\n",
       "    }\n",
       "\n",
       "    .dataframe thead th {\n",
       "        text-align: right;\n",
       "    }\n",
       "</style>\n",
       "<table border=\"1\" class=\"dataframe\">\n",
       "  <thead>\n",
       "    <tr style=\"text-align: right;\">\n",
       "      <th></th>\n",
       "      <th>tripduration</th>\n",
       "      <th>startstationid</th>\n",
       "      <th>startstationlat</th>\n",
       "      <th>startstationlong</th>\n",
       "      <th>endstationid</th>\n",
       "      <th>endstationlat</th>\n",
       "      <th>endstationlong</th>\n",
       "      <th>usertype</th>\n",
       "      <th>startstationboro</th>\n",
       "      <th>startstationhood</th>\n",
       "      <th>endstationboro</th>\n",
       "      <th>endstationhood</th>\n",
       "      <th>hour</th>\n",
       "    </tr>\n",
       "    <tr>\n",
       "      <th>id</th>\n",
       "      <th></th>\n",
       "      <th></th>\n",
       "      <th></th>\n",
       "      <th></th>\n",
       "      <th></th>\n",
       "      <th></th>\n",
       "      <th></th>\n",
       "      <th></th>\n",
       "      <th></th>\n",
       "      <th></th>\n",
       "      <th></th>\n",
       "      <th></th>\n",
       "      <th></th>\n",
       "    </tr>\n",
       "  </thead>\n",
       "  <tbody>\n",
       "    <tr>\n",
       "      <th>4796</th>\n",
       "      <td>1023</td>\n",
       "      <td>2006</td>\n",
       "      <td>40.765909</td>\n",
       "      <td>-73.976342</td>\n",
       "      <td>3282</td>\n",
       "      <td>40.783070</td>\n",
       "      <td>-73.959390</td>\n",
       "      <td>Customer</td>\n",
       "      <td>manhattan</td>\n",
       "      <td>midtown</td>\n",
       "      <td>manhattan</td>\n",
       "      <td>uptown</td>\n",
       "      <td>12.0</td>\n",
       "    </tr>\n",
       "    <tr>\n",
       "      <th>5757</th>\n",
       "      <td>1627</td>\n",
       "      <td>368</td>\n",
       "      <td>40.730386</td>\n",
       "      <td>-74.002150</td>\n",
       "      <td>2006</td>\n",
       "      <td>40.765909</td>\n",
       "      <td>-73.976342</td>\n",
       "      <td>Subscriber</td>\n",
       "      <td>manhattan</td>\n",
       "      <td>village</td>\n",
       "      <td>manhattan</td>\n",
       "      <td>midtown</td>\n",
       "      <td>13.0</td>\n",
       "    </tr>\n",
       "    <tr>\n",
       "      <th>6930</th>\n",
       "      <td>3788</td>\n",
       "      <td>3160</td>\n",
       "      <td>40.778968</td>\n",
       "      <td>-73.973747</td>\n",
       "      <td>3165</td>\n",
       "      <td>40.775794</td>\n",
       "      <td>-73.976206</td>\n",
       "      <td>Customer</td>\n",
       "      <td>manhattan</td>\n",
       "      <td>uptown</td>\n",
       "      <td>manhattan</td>\n",
       "      <td>uptown</td>\n",
       "      <td>14.0</td>\n",
       "    </tr>\n",
       "    <tr>\n",
       "      <th>7291</th>\n",
       "      <td>772</td>\n",
       "      <td>340</td>\n",
       "      <td>40.712690</td>\n",
       "      <td>-73.987763</td>\n",
       "      <td>259</td>\n",
       "      <td>40.701221</td>\n",
       "      <td>-74.012342</td>\n",
       "      <td>Subscriber</td>\n",
       "      <td>manhattan</td>\n",
       "      <td>village</td>\n",
       "      <td>manhattan</td>\n",
       "      <td>fidi</td>\n",
       "      <td>14.0</td>\n",
       "    </tr>\n",
       "    <tr>\n",
       "      <th>7867</th>\n",
       "      <td>2047</td>\n",
       "      <td>3163</td>\n",
       "      <td>40.773407</td>\n",
       "      <td>-73.977825</td>\n",
       "      <td>3323</td>\n",
       "      <td>40.798186</td>\n",
       "      <td>-73.960591</td>\n",
       "      <td>Customer</td>\n",
       "      <td>manhattan</td>\n",
       "      <td>uptown</td>\n",
       "      <td>manhattan</td>\n",
       "      <td>uptown</td>\n",
       "      <td>14.0</td>\n",
       "    </tr>\n",
       "  </tbody>\n",
       "</table>\n",
       "</div>"
      ],
      "text/plain": [
       "      tripduration  startstationid  startstationlat  startstationlong  \\\n",
       "id                                                                      \n",
       "4796          1023            2006        40.765909        -73.976342   \n",
       "5757          1627             368        40.730386        -74.002150   \n",
       "6930          3788            3160        40.778968        -73.973747   \n",
       "7291           772             340        40.712690        -73.987763   \n",
       "7867          2047            3163        40.773407        -73.977825   \n",
       "\n",
       "      endstationid  endstationlat  endstationlong    usertype  \\\n",
       "id                                                              \n",
       "4796          3282      40.783070      -73.959390  Customer     \n",
       "5757          2006      40.765909      -73.976342  Subscriber   \n",
       "6930          3165      40.775794      -73.976206  Customer     \n",
       "7291           259      40.701221      -74.012342  Subscriber   \n",
       "7867          3323      40.798186      -73.960591  Customer     \n",
       "\n",
       "     startstationboro startstationhood endstationboro endstationhood  hour  \n",
       "id                                                                          \n",
       "4796        manhattan          midtown      manhattan         uptown  12.0  \n",
       "5757        manhattan          village      manhattan        midtown  13.0  \n",
       "6930        manhattan           uptown      manhattan         uptown  14.0  \n",
       "7291        manhattan          village      manhattan           fidi  14.0  \n",
       "7867        manhattan           uptown      manhattan         uptown  14.0  "
      ]
     },
     "execution_count": 8,
     "metadata": {},
     "output_type": "execute_result"
    }
   ],
   "source": [
    "df.head()"
   ]
  },
  {
   "cell_type": "code",
   "execution_count": 10,
   "metadata": {},
   "outputs": [],
   "source": [
    "# RUN THESE IF IMPORTING FROM SQL\n",
    "#drop rows with no usertype information\n",
    "df.dropna(axis='index', subset=['usertype'], inplace=True)\n",
    "\n",
    "#strip spaces in 'usertype'\n",
    "df['usertype']=[x.strip() for x in df['usertype']]\n",
    "\n",
    "#turn target categories into numbers: subscriber=0, customer=1\n",
    "usermap={'Subscriber':0,'Customer':1}\n",
    "df['target']=df.loc[:,'usertype'].map(usermap)\n",
    "\n",
    "#drop columns if working from manhattanonly100k.csv\n",
    "df=df.drop(columns=['startstationboro', 'endstationboro'])"
   ]
  },
  {
   "cell_type": "code",
   "execution_count": 11,
   "metadata": {},
   "outputs": [],
   "source": [
    "#create smaller sample if working from SQL, save to csv\n",
    "#df.sample(n=100000, random_state=42).to_csv(\"XXXX.csv\")"
   ]
  },
  {
   "cell_type": "code",
   "execution_count": 12,
   "metadata": {},
   "outputs": [],
   "source": [
    "def get_start_point(row):\n",
    "    p=Point(df.loc[row,'startstationlong'], df.loc[row, 'startstationlat'])\n",
    "    return p\n",
    "\n",
    "def get_end_point(row):\n",
    "    p=Point(df.loc[row,'endstationlong'], df.loc[row, 'endstationlat'])\n",
    "    return p\n",
    "\n",
    "def get_distance(row):\n",
    "    return df.loc[row,'startpoint'].distance(df.loc[row,'endpoint'])\n",
    "\n",
    "def get_speed(row):\n",
    "    return df.loc[row,'distance']/(df.loc[row,'tripduration']/60) "
   ]
  },
  {
   "cell_type": "code",
   "execution_count": 13,
   "metadata": {},
   "outputs": [],
   "source": [
    "df['startpoint']=[get_start_point(row) for row in df.index]"
   ]
  },
  {
   "cell_type": "code",
   "execution_count": 14,
   "metadata": {},
   "outputs": [],
   "source": [
    "df['endpoint']=[get_end_point(row) for row in df.index]"
   ]
  },
  {
   "cell_type": "code",
   "execution_count": 15,
   "metadata": {},
   "outputs": [],
   "source": [
    "df['distance']=[get_distance(row) for row in df.index]"
   ]
  },
  {
   "cell_type": "code",
   "execution_count": 16,
   "metadata": {},
   "outputs": [],
   "source": [
    "df['speed']=[get_speed(row) for row in df.index]"
   ]
  },
  {
   "cell_type": "code",
   "execution_count": 17,
   "metadata": {},
   "outputs": [
    {
     "data": {
      "text/html": [
       "<div>\n",
       "<style scoped>\n",
       "    .dataframe tbody tr th:only-of-type {\n",
       "        vertical-align: middle;\n",
       "    }\n",
       "\n",
       "    .dataframe tbody tr th {\n",
       "        vertical-align: top;\n",
       "    }\n",
       "\n",
       "    .dataframe thead th {\n",
       "        text-align: right;\n",
       "    }\n",
       "</style>\n",
       "<table border=\"1\" class=\"dataframe\">\n",
       "  <thead>\n",
       "    <tr style=\"text-align: right;\">\n",
       "      <th></th>\n",
       "      <th>tripduration</th>\n",
       "      <th>startstationid</th>\n",
       "      <th>startstationlat</th>\n",
       "      <th>startstationlong</th>\n",
       "      <th>endstationid</th>\n",
       "      <th>endstationlat</th>\n",
       "      <th>endstationlong</th>\n",
       "      <th>usertype</th>\n",
       "      <th>startstationhood</th>\n",
       "      <th>endstationhood</th>\n",
       "      <th>hour</th>\n",
       "      <th>target</th>\n",
       "      <th>startpoint</th>\n",
       "      <th>endpoint</th>\n",
       "      <th>distance</th>\n",
       "      <th>speed</th>\n",
       "    </tr>\n",
       "    <tr>\n",
       "      <th>id</th>\n",
       "      <th></th>\n",
       "      <th></th>\n",
       "      <th></th>\n",
       "      <th></th>\n",
       "      <th></th>\n",
       "      <th></th>\n",
       "      <th></th>\n",
       "      <th></th>\n",
       "      <th></th>\n",
       "      <th></th>\n",
       "      <th></th>\n",
       "      <th></th>\n",
       "      <th></th>\n",
       "      <th></th>\n",
       "      <th></th>\n",
       "      <th></th>\n",
       "    </tr>\n",
       "  </thead>\n",
       "  <tbody>\n",
       "    <tr>\n",
       "      <th>4796</th>\n",
       "      <td>1023</td>\n",
       "      <td>2006</td>\n",
       "      <td>40.765909</td>\n",
       "      <td>-73.976342</td>\n",
       "      <td>3282</td>\n",
       "      <td>40.783070</td>\n",
       "      <td>-73.959390</td>\n",
       "      <td>Customer</td>\n",
       "      <td>midtown</td>\n",
       "      <td>uptown</td>\n",
       "      <td>12.0</td>\n",
       "      <td>1</td>\n",
       "      <td>POINT (-73.97634151 40.76590936)</td>\n",
       "      <td>POINT (-73.95939 40.78307)</td>\n",
       "      <td>0.024121</td>\n",
       "      <td>0.001415</td>\n",
       "    </tr>\n",
       "    <tr>\n",
       "      <th>5757</th>\n",
       "      <td>1627</td>\n",
       "      <td>368</td>\n",
       "      <td>40.730386</td>\n",
       "      <td>-74.002150</td>\n",
       "      <td>2006</td>\n",
       "      <td>40.765909</td>\n",
       "      <td>-73.976342</td>\n",
       "      <td>Subscriber</td>\n",
       "      <td>village</td>\n",
       "      <td>midtown</td>\n",
       "      <td>13.0</td>\n",
       "      <td>0</td>\n",
       "      <td>POINT (-74.00214988 40.73038599)</td>\n",
       "      <td>POINT (-73.97634151 40.76590936)</td>\n",
       "      <td>0.043909</td>\n",
       "      <td>0.001619</td>\n",
       "    </tr>\n",
       "    <tr>\n",
       "      <th>6930</th>\n",
       "      <td>3788</td>\n",
       "      <td>3160</td>\n",
       "      <td>40.778968</td>\n",
       "      <td>-73.973747</td>\n",
       "      <td>3165</td>\n",
       "      <td>40.775794</td>\n",
       "      <td>-73.976206</td>\n",
       "      <td>Customer</td>\n",
       "      <td>uptown</td>\n",
       "      <td>uptown</td>\n",
       "      <td>14.0</td>\n",
       "      <td>1</td>\n",
       "      <td>POINT (-73.97374737 40.77896784)</td>\n",
       "      <td>POINT (-73.9762057363987 40.7757937668367)</td>\n",
       "      <td>0.004015</td>\n",
       "      <td>0.000064</td>\n",
       "    </tr>\n",
       "    <tr>\n",
       "      <th>7291</th>\n",
       "      <td>772</td>\n",
       "      <td>340</td>\n",
       "      <td>40.712690</td>\n",
       "      <td>-73.987763</td>\n",
       "      <td>259</td>\n",
       "      <td>40.701221</td>\n",
       "      <td>-74.012342</td>\n",
       "      <td>Subscriber</td>\n",
       "      <td>village</td>\n",
       "      <td>fidi</td>\n",
       "      <td>14.0</td>\n",
       "      <td>0</td>\n",
       "      <td>POINT (-73.98776323 40.71269042)</td>\n",
       "      <td>POINT (-74.01234218 40.70122128)</td>\n",
       "      <td>0.027123</td>\n",
       "      <td>0.002108</td>\n",
       "    </tr>\n",
       "    <tr>\n",
       "      <th>7867</th>\n",
       "      <td>2047</td>\n",
       "      <td>3163</td>\n",
       "      <td>40.773407</td>\n",
       "      <td>-73.977825</td>\n",
       "      <td>3323</td>\n",
       "      <td>40.798186</td>\n",
       "      <td>-73.960591</td>\n",
       "      <td>Customer</td>\n",
       "      <td>uptown</td>\n",
       "      <td>uptown</td>\n",
       "      <td>14.0</td>\n",
       "      <td>1</td>\n",
       "      <td>POINT (-73.97782542 40.7734066)</td>\n",
       "      <td>POINT (-73.9605909006 40.7981856)</td>\n",
       "      <td>0.030183</td>\n",
       "      <td>0.000885</td>\n",
       "    </tr>\n",
       "  </tbody>\n",
       "</table>\n",
       "</div>"
      ],
      "text/plain": [
       "      tripduration  startstationid  startstationlat  startstationlong  \\\n",
       "id                                                                      \n",
       "4796          1023            2006        40.765909        -73.976342   \n",
       "5757          1627             368        40.730386        -74.002150   \n",
       "6930          3788            3160        40.778968        -73.973747   \n",
       "7291           772             340        40.712690        -73.987763   \n",
       "7867          2047            3163        40.773407        -73.977825   \n",
       "\n",
       "      endstationid  endstationlat  endstationlong    usertype  \\\n",
       "id                                                              \n",
       "4796          3282      40.783070      -73.959390    Customer   \n",
       "5757          2006      40.765909      -73.976342  Subscriber   \n",
       "6930          3165      40.775794      -73.976206    Customer   \n",
       "7291           259      40.701221      -74.012342  Subscriber   \n",
       "7867          3323      40.798186      -73.960591    Customer   \n",
       "\n",
       "     startstationhood endstationhood  hour  target  \\\n",
       "id                                                   \n",
       "4796          midtown         uptown  12.0       1   \n",
       "5757          village        midtown  13.0       0   \n",
       "6930           uptown         uptown  14.0       1   \n",
       "7291          village           fidi  14.0       0   \n",
       "7867           uptown         uptown  14.0       1   \n",
       "\n",
       "                            startpoint  \\\n",
       "id                                       \n",
       "4796  POINT (-73.97634151 40.76590936)   \n",
       "5757  POINT (-74.00214988 40.73038599)   \n",
       "6930  POINT (-73.97374737 40.77896784)   \n",
       "7291  POINT (-73.98776323 40.71269042)   \n",
       "7867   POINT (-73.97782542 40.7734066)   \n",
       "\n",
       "                                        endpoint  distance     speed  \n",
       "id                                                                    \n",
       "4796                  POINT (-73.95939 40.78307)  0.024121  0.001415  \n",
       "5757            POINT (-73.97634151 40.76590936)  0.043909  0.001619  \n",
       "6930  POINT (-73.9762057363987 40.7757937668367)  0.004015  0.000064  \n",
       "7291            POINT (-74.01234218 40.70122128)  0.027123  0.002108  \n",
       "7867           POINT (-73.9605909006 40.7981856)  0.030183  0.000885  "
      ]
     },
     "execution_count": 17,
     "metadata": {},
     "output_type": "execute_result"
    }
   ],
   "source": [
    "df.head()"
   ]
  },
  {
   "cell_type": "code",
   "execution_count": 18,
   "metadata": {},
   "outputs": [
    {
     "data": {
      "text/plain": [
       "Text(0.5,1,'Customers VS Subscribers Avg Duration of Trip')"
      ]
     },
     "execution_count": 18,
     "metadata": {},
     "output_type": "execute_result"
    },
    {
     "data": {
      "image/png": "[encoded data removed]",
      "text/plain": [
       "<Figure size 432x288 with 1 Axes>"
      ]
     },
     "metadata": {},
     "output_type": "display_data"
    }
   ],
   "source": [
    "df.groupby(\"usertype\").tripduration.mean().plot(kind='bar')\n",
    "plt.title(\"Customers VS Subscribers Avg Duration of Trip\")"
   ]
  },
  {
   "cell_type": "code",
   "execution_count": 19,
   "metadata": {},
   "outputs": [
    {
     "data": {
      "text/plain": [
       "Text(0.5,1,'Customers VS Subscribers Avg Speed of Trip')"
      ]
     },
     "execution_count": 19,
     "metadata": {},
     "output_type": "execute_result"
    },
    {
     "data": {
      "image/png": "[encoded data removed]",
      "text/plain": [
       "<Figure size 432x288 with 1 Axes>"
      ]
     },
     "metadata": {},
     "output_type": "display_data"
    }
   ],
   "source": [
    "df.groupby(\"usertype\").speed.mean().plot(kind='bar')\n",
    "plt.title(\"Customers VS Subscribers Avg Speed of Trip\")"
   ]
  },
  {
   "cell_type": "code",
   "execution_count": 20,
   "metadata": {},
   "outputs": [
    {
     "data": {
      "text/plain": [
       "Text(0.5,1,'Customers VS Subscribers Avg Distance of Trip')"
      ]
     },
     "execution_count": 20,
     "metadata": {},
     "output_type": "execute_result"
    },
    {
     "data": {
      "image/png": "[encoded data removed]",
      "text/plain": [
       "<Figure size 432x288 with 1 Axes>"
      ]
     },
     "metadata": {},
     "output_type": "display_data"
    }
   ],
   "source": [
    "df.groupby(\"usertype\").distance.mean().plot(kind='bar')\n",
    "plt.title(\"Customers VS Subscribers Avg Distance of Trip\")"
   ]
  },
  {
   "cell_type": "code",
   "execution_count": 23,
   "metadata": {},
   "outputs": [
    {
     "data": {
      "text/html": [
       "<div>\n",
       "<style scoped>\n",
       "    .dataframe tbody tr th:only-of-type {\n",
       "        vertical-align: middle;\n",
       "    }\n",
       "\n",
       "    .dataframe tbody tr th {\n",
       "        vertical-align: top;\n",
       "    }\n",
       "\n",
       "    .dataframe thead th {\n",
       "        text-align: right;\n",
       "    }\n",
       "</style>\n",
       "<table border=\"1\" class=\"dataframe\">\n",
       "  <thead>\n",
       "    <tr style=\"text-align: right;\">\n",
       "      <th></th>\n",
       "      <th>tripduration</th>\n",
       "      <th>startstationid</th>\n",
       "      <th>startstationlat</th>\n",
       "      <th>startstationlong</th>\n",
       "      <th>endstationid</th>\n",
       "      <th>endstationlat</th>\n",
       "      <th>endstationlong</th>\n",
       "      <th>usertype</th>\n",
       "      <th>startstationhood</th>\n",
       "      <th>endstationhood</th>\n",
       "      <th>hour</th>\n",
       "      <th>target</th>\n",
       "      <th>startpoint</th>\n",
       "      <th>endpoint</th>\n",
       "      <th>distance</th>\n",
       "      <th>speed</th>\n",
       "    </tr>\n",
       "    <tr>\n",
       "      <th>id</th>\n",
       "      <th></th>\n",
       "      <th></th>\n",
       "      <th></th>\n",
       "      <th></th>\n",
       "      <th></th>\n",
       "      <th></th>\n",
       "      <th></th>\n",
       "      <th></th>\n",
       "      <th></th>\n",
       "      <th></th>\n",
       "      <th></th>\n",
       "      <th></th>\n",
       "      <th></th>\n",
       "      <th></th>\n",
       "      <th></th>\n",
       "      <th></th>\n",
       "    </tr>\n",
       "  </thead>\n",
       "  <tbody>\n",
       "    <tr>\n",
       "      <th>4796</th>\n",
       "      <td>1023</td>\n",
       "      <td>2006</td>\n",
       "      <td>40.765909</td>\n",
       "      <td>-73.976342</td>\n",
       "      <td>3282</td>\n",
       "      <td>40.783070</td>\n",
       "      <td>-73.959390</td>\n",
       "      <td>Customer</td>\n",
       "      <td>midtown</td>\n",
       "      <td>uptown</td>\n",
       "      <td>12.0</td>\n",
       "      <td>1</td>\n",
       "      <td>POINT (-73.97634151 40.76590936)</td>\n",
       "      <td>POINT (-73.95939 40.78307)</td>\n",
       "      <td>0.024121</td>\n",
       "      <td>0.001415</td>\n",
       "    </tr>\n",
       "    <tr>\n",
       "      <th>5757</th>\n",
       "      <td>1627</td>\n",
       "      <td>368</td>\n",
       "      <td>40.730386</td>\n",
       "      <td>-74.002150</td>\n",
       "      <td>2006</td>\n",
       "      <td>40.765909</td>\n",
       "      <td>-73.976342</td>\n",
       "      <td>Subscriber</td>\n",
       "      <td>village</td>\n",
       "      <td>midtown</td>\n",
       "      <td>13.0</td>\n",
       "      <td>0</td>\n",
       "      <td>POINT (-74.00214988 40.73038599)</td>\n",
       "      <td>POINT (-73.97634151 40.76590936)</td>\n",
       "      <td>0.043909</td>\n",
       "      <td>0.001619</td>\n",
       "    </tr>\n",
       "    <tr>\n",
       "      <th>6930</th>\n",
       "      <td>3788</td>\n",
       "      <td>3160</td>\n",
       "      <td>40.778968</td>\n",
       "      <td>-73.973747</td>\n",
       "      <td>3165</td>\n",
       "      <td>40.775794</td>\n",
       "      <td>-73.976206</td>\n",
       "      <td>Customer</td>\n",
       "      <td>uptown</td>\n",
       "      <td>uptown</td>\n",
       "      <td>14.0</td>\n",
       "      <td>1</td>\n",
       "      <td>POINT (-73.97374737 40.77896784)</td>\n",
       "      <td>POINT (-73.9762057363987 40.7757937668367)</td>\n",
       "      <td>0.004015</td>\n",
       "      <td>0.000064</td>\n",
       "    </tr>\n",
       "    <tr>\n",
       "      <th>7291</th>\n",
       "      <td>772</td>\n",
       "      <td>340</td>\n",
       "      <td>40.712690</td>\n",
       "      <td>-73.987763</td>\n",
       "      <td>259</td>\n",
       "      <td>40.701221</td>\n",
       "      <td>-74.012342</td>\n",
       "      <td>Subscriber</td>\n",
       "      <td>village</td>\n",
       "      <td>fidi</td>\n",
       "      <td>14.0</td>\n",
       "      <td>0</td>\n",
       "      <td>POINT (-73.98776323 40.71269042)</td>\n",
       "      <td>POINT (-74.01234218 40.70122128)</td>\n",
       "      <td>0.027123</td>\n",
       "      <td>0.002108</td>\n",
       "    </tr>\n",
       "    <tr>\n",
       "      <th>7867</th>\n",
       "      <td>2047</td>\n",
       "      <td>3163</td>\n",
       "      <td>40.773407</td>\n",
       "      <td>-73.977825</td>\n",
       "      <td>3323</td>\n",
       "      <td>40.798186</td>\n",
       "      <td>-73.960591</td>\n",
       "      <td>Customer</td>\n",
       "      <td>uptown</td>\n",
       "      <td>uptown</td>\n",
       "      <td>14.0</td>\n",
       "      <td>1</td>\n",
       "      <td>POINT (-73.97782542 40.7734066)</td>\n",
       "      <td>POINT (-73.9605909006 40.7981856)</td>\n",
       "      <td>0.030183</td>\n",
       "      <td>0.000885</td>\n",
       "    </tr>\n",
       "  </tbody>\n",
       "</table>\n",
       "</div>"
      ],
      "text/plain": [
       "      tripduration  startstationid  startstationlat  startstationlong  \\\n",
       "id                                                                      \n",
       "4796          1023            2006        40.765909        -73.976342   \n",
       "5757          1627             368        40.730386        -74.002150   \n",
       "6930          3788            3160        40.778968        -73.973747   \n",
       "7291           772             340        40.712690        -73.987763   \n",
       "7867          2047            3163        40.773407        -73.977825   \n",
       "\n",
       "      endstationid  endstationlat  endstationlong    usertype  \\\n",
       "id                                                              \n",
       "4796          3282      40.783070      -73.959390    Customer   \n",
       "5757          2006      40.765909      -73.976342  Subscriber   \n",
       "6930          3165      40.775794      -73.976206    Customer   \n",
       "7291           259      40.701221      -74.012342  Subscriber   \n",
       "7867          3323      40.798186      -73.960591    Customer   \n",
       "\n",
       "     startstationhood endstationhood  hour  target  \\\n",
       "id                                                   \n",
       "4796          midtown         uptown  12.0       1   \n",
       "5757          village        midtown  13.0       0   \n",
       "6930           uptown         uptown  14.0       1   \n",
       "7291          village           fidi  14.0       0   \n",
       "7867           uptown         uptown  14.0       1   \n",
       "\n",
       "                            startpoint  \\\n",
       "id                                       \n",
       "4796  POINT (-73.97634151 40.76590936)   \n",
       "5757  POINT (-74.00214988 40.73038599)   \n",
       "6930  POINT (-73.97374737 40.77896784)   \n",
       "7291  POINT (-73.98776323 40.71269042)   \n",
       "7867   POINT (-73.97782542 40.7734066)   \n",
       "\n",
       "                                        endpoint  distance     speed  \n",
       "id                                                                    \n",
       "4796                  POINT (-73.95939 40.78307)  0.024121  0.001415  \n",
       "5757            POINT (-73.97634151 40.76590936)  0.043909  0.001619  \n",
       "6930  POINT (-73.9762057363987 40.7757937668367)  0.004015  0.000064  \n",
       "7291            POINT (-74.01234218 40.70122128)  0.027123  0.002108  \n",
       "7867           POINT (-73.9605909006 40.7981856)  0.030183  0.000885  "
      ]
     },
     "execution_count": 23,
     "metadata": {},
     "output_type": "execute_result"
    }
   ],
   "source": [
    "df.head()"
   ]
  },
  {
   "cell_type": "code",
   "execution_count": 22,
   "metadata": {},
   "outputs": [],
   "source": [
    "#df=df.set_index(df['id']).drop(columns=['id'])"
   ]
  },
  {
   "cell_type": "code",
   "execution_count": 24,
   "metadata": {},
   "outputs": [],
   "source": [
    "df=df.drop(columns=['startstationlat', 'startstationlong','endstationlat','endstationlong','startpoint','endpoint', 'usertype'])"
   ]
  },
  {
   "cell_type": "code",
   "execution_count": 25,
   "metadata": {},
   "outputs": [],
   "source": [
    "df=pd.get_dummies(df)"
   ]
  },
  {
   "cell_type": "code",
   "execution_count": 26,
   "metadata": {},
   "outputs": [
    {
     "data": {
      "text/plain": [
       "Index(['tripduration', 'startstationid', 'endstationid', 'hour', 'target',\n",
       "       'distance', 'speed', 'startstationhood_fidi', 'startstationhood_harlem',\n",
       "       'startstationhood_midtown', 'startstationhood_uptown',\n",
       "       'startstationhood_village', 'endstationhood_fidi',\n",
       "       'endstationhood_harlem', 'endstationhood_midtown',\n",
       "       'endstationhood_uptown', 'endstationhood_village'],\n",
       "      dtype='object')"
      ]
     },
     "execution_count": 26,
     "metadata": {},
     "output_type": "execute_result"
    }
   ],
   "source": [
    "df.columns"
   ]
  },
  {
   "cell_type": "code",
   "execution_count": 27,
   "metadata": {},
   "outputs": [],
   "source": [
    "X=df.drop(columns=[\"target\"])\n",
    "y=df['target']\n",
    "RUS = imblearn.under_sampling.RandomUnderSampler(ratio='auto', random_state=42)"
   ]
  },
  {
   "cell_type": "code",
   "execution_count": 28,
   "metadata": {},
   "outputs": [],
   "source": [
    "#Split data into 3: 56% train ??% validation, 30% test\n",
    "X_train, X_test, y_train, y_test = train_test_split(X, y, test_size=0.3, random_state=2018) #30% test\n",
    "\n",
    "X_train, y_train = RUS.fit_sample(X_train, y_train) #undersample\n",
    "\n",
    "X_train, X_val, y_train, y_val = train_test_split(X_train, y_train, test_size=0.2, random_state=2019) #80% of 70% train, 20% of 70% val"
   ]
  },
  {
   "cell_type": "code",
   "execution_count": 29,
   "metadata": {},
   "outputs": [
    {
     "name": "stdout",
     "output_type": "stream",
     "text": [
      "2018-08-12 17:31:12.363440\n"
     ]
    }
   ],
   "source": [
    "X_train = pd.DataFrame(X_train, columns=X.columns)\n",
    "X_val = pd.DataFrame(X_val, columns=X.columns)\n",
    "print(datetime.now())"
   ]
  },
  {
   "cell_type": "code",
   "execution_count": 30,
   "metadata": {},
   "outputs": [],
   "source": [
    "gbm = xgb.XGBClassifier( \n",
    "                        n_estimators=30000,\n",
    "                        max_depth=4,\n",
    "                        objective='binary:logistic', #classification objective\n",
    "                        learning_rate=.05, \n",
    "                        subsample=.8,\n",
    "                        min_child_weight=3,\n",
    "                        colsample_bytree=.8\n",
    "                       )\n",
    "\n",
    "eval_set=[(X_train,y_train),(X_val,y_val)]\n",
    "fit_model = gbm.fit( \n",
    "                    X_train, y_train, \n",
    "                    eval_set=eval_set,\n",
    "                    eval_metric='error', #evaluation metric: classification error (could also use AUC, e.g.)\n",
    "                    early_stopping_rounds=50,\n",
    "                    verbose=False\n",
    "                   )"
   ]
  },
  {
   "cell_type": "code",
   "execution_count": 31,
   "metadata": {},
   "outputs": [
    {
     "name": "stdout",
     "output_type": "stream",
     "text": [
      "2018-08-12 18:02:19.431204\n"
     ]
    }
   ],
   "source": [
    "print(datetime.now())"
   ]
  },
  {
   "cell_type": "code",
   "execution_count": 32,
   "metadata": {},
   "outputs": [
    {
     "name": "stderr",
     "output_type": "stream",
     "text": [
      "/home/ubuntu/anaconda3/lib/python3.6/site-packages/sklearn/preprocessing/label.py:151: DeprecationWarning: The truth value of an empty array is ambiguous. Returning False, but in future this will result in an error. Use `array.size > 0` to check that an array is not empty.\n",
      "  if diff:\n"
     ]
    },
    {
     "data": {
      "text/plain": [
       "0.1716951502217518"
      ]
     },
     "execution_count": 32,
     "metadata": {},
     "output_type": "execute_result"
    }
   ],
   "source": [
    "mean_squared_error(gbm.predict(X_val, ntree_limit=gbm.best_ntree_limit),y_val) "
   ]
  },
  {
   "cell_type": "code",
   "execution_count": 33,
   "metadata": {},
   "outputs": [
    {
     "name": "stderr",
     "output_type": "stream",
     "text": [
      "/home/ubuntu/anaconda3/lib/python3.6/site-packages/sklearn/preprocessing/label.py:151: DeprecationWarning: The truth value of an empty array is ambiguous. Returning False, but in future this will result in an error. Use `array.size > 0` to check that an array is not empty.\n",
      "  if diff:\n"
     ]
    },
    {
     "data": {
      "text/plain": [
       "0.828127879122904"
      ]
     },
     "execution_count": 33,
     "metadata": {},
     "output_type": "execute_result"
    }
   ],
   "source": [
    "f1_score(y_val, gbm.predict(X_val, ntree_limit=gbm.best_ntree_limit)) "
   ]
  },
  {
   "cell_type": "code",
   "execution_count": 34,
   "metadata": {},
   "outputs": [
    {
     "name": "stdout",
     "output_type": "stream",
     "text": [
      "[0.82636831 0.83025534]\n"
     ]
    },
    {
     "name": "stderr",
     "output_type": "stream",
     "text": [
      "/home/ubuntu/anaconda3/lib/python3.6/site-packages/sklearn/preprocessing/label.py:151: DeprecationWarning: The truth value of an empty array is ambiguous. Returning False, but in future this will result in an error. Use `array.size > 0` to check that an array is not empty.\n",
      "  if diff:\n"
     ]
    }
   ],
   "source": [
    "print(metrics.precision_score(y_val, gbm.predict(X_val, ntree_limit=gbm.best_ntree_limit), average=None))"
   ]
  },
  {
   "cell_type": "code",
   "execution_count": 35,
   "metadata": {},
   "outputs": [
    {
     "name": "stderr",
     "output_type": "stream",
     "text": [
      "/home/ubuntu/anaconda3/lib/python3.6/site-packages/sklearn/preprocessing/label.py:151: DeprecationWarning: The truth value of an empty array is ambiguous. Returning False, but in future this will result in an error. Use `array.size > 0` to check that an array is not empty.\n",
      "  if diff:\n"
     ]
    },
    {
     "name": "stdout",
     "output_type": "stream",
     "text": [
      "[[144174  29403]\n",
      " [ 30293 143816]]\n"
     ]
    }
   ],
   "source": [
    "print(confusion_matrix(y_val, gbm.predict(X_val, ntree_limit=gbm.best_ntree_limit)))"
   ]
  },
  {
   "cell_type": "code",
   "execution_count": 36,
   "metadata": {},
   "outputs": [
    {
     "name": "stdout",
     "output_type": "stream",
     "text": [
      "             precision    recall  f1-score   support\n",
      "\n",
      "          0       0.83      0.83      0.83    173577\n",
      "          1       0.83      0.83      0.83    174109\n",
      "\n",
      "avg / total       0.83      0.83      0.83    347686\n",
      "\n"
     ]
    },
    {
     "name": "stderr",
     "output_type": "stream",
     "text": [
      "/home/ubuntu/anaconda3/lib/python3.6/site-packages/sklearn/preprocessing/label.py:151: DeprecationWarning: The truth value of an empty array is ambiguous. Returning False, but in future this will result in an error. Use `array.size > 0` to check that an array is not empty.\n",
      "  if diff:\n"
     ]
    }
   ],
   "source": [
    "print(classification_report(y_val, gbm.predict(X_val, ntree_limit=gbm.best_ntree_limit)))"
   ]
  },
  {
   "cell_type": "code",
   "execution_count": 37,
   "metadata": {},
   "outputs": [
    {
     "data": {
      "text/plain": [
       "<matplotlib.axes._subplots.AxesSubplot at 0x7fc532292ba8>"
      ]
     },
     "execution_count": 37,
     "metadata": {},
     "output_type": "execute_result"
    },
    {
     "data": {
      "image/png": "[encoded data removed]",
      "text/plain": [
       "<Figure size 432x288 with 1 Axes>"
      ]
     },
     "metadata": {},
     "output_type": "display_data"
    },
    {
     "data": {
      "image/png": "[encoded data removed]",
      "text/plain": [
       "<Figure size 432x288 with 1 Axes>"
      ]
     },
     "metadata": {},
     "output_type": "display_data"
    },
    {
     "data": {
      "image/png": "[encoded data removed]",
      "text/plain": [
       "<Figure size 432x288 with 1 Axes>"
      ]
     },
     "metadata": {},
     "output_type": "display_data"
    }
   ],
   "source": [
    "xgb.plot_importance(gbm, importance_type=\"cover\", title=\"Feature importance by coverage\", show_values=False)\n",
    "xgb.plot_importance(gbm, importance_type='gain',  title='Feature importance by gain', show_values=False)\n",
    "xgb.plot_importance(gbm, importance_type='cover',  title='Feature importance by cover', show_values=False)"
   ]
  }
 ],
 "metadata": {
  "kernelspec": {
   "display_name": "Python 3",
   "language": "python",
   "name": "python3"
  },
  "language_info": {
   "codemirror_mode": {
    "name": "ipython",
    "version": 3
   },
   "file_extension": ".py",
   "mimetype": "text/x-python",
   "name": "python",
   "nbconvert_exporter": "python",
   "pygments_lexer": "ipython3",
   "version": "3.6.5"
  }
 },
 "nbformat": 4,
 "nbformat_minor": 2
}
