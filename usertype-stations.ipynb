{
 "cells": [
  {
   "cell_type": "code",
   "execution_count": 1,
   "metadata": {},
   "outputs": [],
   "source": [
    "from sqlalchemy import create_engine\n",
    "import pandas as pd\n",
    "import numpy as np\n",
    "from datetime import datetime\n",
    "from dateutil.parser import parse\n",
    "import pickle\n",
    "from shapely.geometry import Polygon\n",
    "from shapely.geometry import Point\n",
    "from shapely.geometry import MultiPoint\n",
    "import seaborn as sns\n",
    "sns.set(style=\"whitegrid\")\n",
    "\n",
    "\n",
    "import matplotlib.pyplot as plt\n",
    "%matplotlib inline"
   ]
  },
  {
   "cell_type": "code",
   "execution_count": 2,
   "metadata": {},
   "outputs": [],
   "source": [
    "# def CreateSQLTable(sqltablename, df):\n",
    "#     SqlDtype = ''\n",
    "#     ret_str = 'CREATE TABLE ' + sqltablename + ' (\\n'\n",
    "#     for col in df:\n",
    "#         if df[col].dtype == 'int64':\n",
    "#             SqlDtype = 'INT'\n",
    "#         if df[col].dtype == 'float64':\n",
    "#             SqlDtype = 'DOUBLE PRECISION'\n",
    "#         if df[col].dtype == 'object':\n",
    "#             SqlDtype = 'TEXT'\n",
    "#         ret_str = ret_str + col + '\\t' + SqlDtype + ',' + '\\n'\n",
    "#     ret_str = ret_str[:-2] + ');'\n",
    "#     return print(ret_str)"
   ]
  },
  {
   "cell_type": "code",
   "execution_count": 3,
   "metadata": {},
   "outputs": [
    {
     "name": "stderr",
     "output_type": "stream",
     "text": [
      "/home/ubuntu/anaconda3/lib/python3.6/site-packages/psycopg2/__init__.py:144: UserWarning: The psycopg2 wheel package will be renamed from release 2.8; in order to keep installing from binary please use \"pip install psycopg2-binary\" instead. For details see: <http://initd.org/psycopg/docs/install.html#binary-install-from-pypi>.\n",
      "  \"\"\")\n"
     ]
    }
   ],
   "source": [
    "\n",
    "cnx = create_engine('postgresql://postgres@localhost:5432/postgres')"
   ]
  },
  {
   "cell_type": "code",
   "execution_count": 4,
   "metadata": {},
   "outputs": [],
   "source": [
    "df=pd.read_sql_query('''SELECT A.usertype, A.startstationid, A.endstationid, B.id, B.names FROM stationids B RIGHT JOIN biketrips A ON A.startstationid=B.id;''',cnx)"
   ]
  },
  {
   "cell_type": "code",
   "execution_count": 5,
   "metadata": {},
   "outputs": [
    {
     "data": {
      "text/html": [
       "<div>\n",
       "<style scoped>\n",
       "    .dataframe tbody tr th:only-of-type {\n",
       "        vertical-align: middle;\n",
       "    }\n",
       "\n",
       "    .dataframe tbody tr th {\n",
       "        vertical-align: top;\n",
       "    }\n",
       "\n",
       "    .dataframe thead th {\n",
       "        text-align: right;\n",
       "    }\n",
       "</style>\n",
       "<table border=\"1\" class=\"dataframe\">\n",
       "  <thead>\n",
       "    <tr style=\"text-align: right;\">\n",
       "      <th></th>\n",
       "      <th>usertype</th>\n",
       "      <th>startstationid</th>\n",
       "      <th>endstationid</th>\n",
       "      <th>id</th>\n",
       "      <th>names</th>\n",
       "    </tr>\n",
       "  </thead>\n",
       "  <tbody>\n",
       "    <tr>\n",
       "      <th>0</th>\n",
       "      <td>Subscriber</td>\n",
       "      <td>3226</td>\n",
       "      <td>3165</td>\n",
       "      <td>3226.0</td>\n",
       "      <td>W 82 St &amp; Central Park West</td>\n",
       "    </tr>\n",
       "    <tr>\n",
       "      <th>1</th>\n",
       "      <td>Subscriber</td>\n",
       "      <td>3263</td>\n",
       "      <td>498</td>\n",
       "      <td>3263.0</td>\n",
       "      <td>Cooper Square &amp; Astor Pl</td>\n",
       "    </tr>\n",
       "    <tr>\n",
       "      <th>2</th>\n",
       "      <td>Customer</td>\n",
       "      <td>3143</td>\n",
       "      <td>3152</td>\n",
       "      <td>3143.0</td>\n",
       "      <td>5 Ave &amp; E 78 St</td>\n",
       "    </tr>\n",
       "    <tr>\n",
       "      <th>3</th>\n",
       "      <td>Customer</td>\n",
       "      <td>3143</td>\n",
       "      <td>3152</td>\n",
       "      <td>3143.0</td>\n",
       "      <td>5 Ave &amp; E 78 St</td>\n",
       "    </tr>\n",
       "    <tr>\n",
       "      <th>4</th>\n",
       "      <td>Customer</td>\n",
       "      <td>3143</td>\n",
       "      <td>3152</td>\n",
       "      <td>3143.0</td>\n",
       "      <td>5 Ave &amp; E 78 St</td>\n",
       "    </tr>\n",
       "  </tbody>\n",
       "</table>\n",
       "</div>"
      ],
      "text/plain": [
       "     usertype  startstationid  endstationid      id  \\\n",
       "0  Subscriber            3226          3165  3226.0   \n",
       "1  Subscriber            3263           498  3263.0   \n",
       "2  Customer              3143          3152  3143.0   \n",
       "3  Customer              3143          3152  3143.0   \n",
       "4  Customer              3143          3152  3143.0   \n",
       "\n",
       "                         names  \n",
       "0  W 82 St & Central Park West  \n",
       "1     Cooper Square & Astor Pl  \n",
       "2              5 Ave & E 78 St  \n",
       "3              5 Ave & E 78 St  \n",
       "4              5 Ave & E 78 St  "
      ]
     },
     "execution_count": 5,
     "metadata": {},
     "output_type": "execute_result"
    }
   ],
   "source": [
    "df.head()"
   ]
  },
  {
   "cell_type": "code",
   "execution_count": 6,
   "metadata": {},
   "outputs": [],
   "source": [
    "df.dropna(axis=0, how='any',inplace=True)\n",
    "df['usertype']=[x.strip() for x in df['usertype']]"
   ]
  },
  {
   "cell_type": "code",
   "execution_count": 7,
   "metadata": {},
   "outputs": [],
   "source": [
    "df_cus=df[df['usertype']==\"Customer\"]\n",
    "df_sub=df[df['usertype']=='Subscriber']"
   ]
  },
  {
   "cell_type": "code",
   "execution_count": 32,
   "metadata": {},
   "outputs": [],
   "source": [
    "#GET TOP SUBSCRIBER STATIONS\n",
    "subscriber_start_popular=pd.DataFrame(df_sub.groupby('id')['names'].count().sort_values(ascending=False))\n",
    "subscriber_end_popular=pd.DataFrame(df_sub.groupby('endstationid')['names'].count().sort_values(ascending=False))\n",
    "subscriber_end_popular=subscriber_end_popular.reset_index().rename(columns={'endstationid':'id'})\n",
    "subscriber_end_popular=subscriber_end_popular.set_index(['id'])\n",
    "top_sub_stations=subscriber_start_popular.join(subscriber_end_popular, lsuffix=\"start\", sort=True)\n",
    "top_sub_stations['count']=top_sub_stations['namesstart']+top_sub_stations['names']\n",
    "top_sub_stations=top_sub_stations.drop(columns=['namesstart','names'])\n",
    "top_sub_stations=top_sub_stations.sort_values(by='count', ascending=False)"
   ]
  },
  {
   "cell_type": "code",
   "execution_count": 62,
   "metadata": {},
   "outputs": [],
   "source": [
    "top_sub_stations.to_csv(\"topsubscriberstations.csv\")"
   ]
  },
  {
   "cell_type": "code",
   "execution_count": 48,
   "metadata": {},
   "outputs": [],
   "source": [
    "#GET TOP CUSTOMER STATIONS\n",
    "customer_start_popular=pd.DataFrame(df_cus.groupby('id')['names'].count().sort_values(ascending=False))\n",
    "customer_end_popular=pd.DataFrame(df_cus.groupby('endstationid')['names'].count().sort_values(ascending=False))\n",
    "customer_end_popular=customer_end_popular.reset_index().rename(columns={'endstationid':'id'})\n",
    "customer_end_popular=customer_end_popular.set_index(['id'])\n",
    "top_cust_stations=customer_start_popular.join(customer_end_popular, lsuffix=\"start\", sort=True)\n",
    "top_cust_stations['count']=top_cust_stations['namesstart']+top_cust_stations['names']\n",
    "top_cust_stations=top_cust_stations.drop(columns=['namesstart','names'])\n",
    "top_cust_stations=top_cust_stations.sort_values(by='count', ascending=False)"
   ]
  },
  {
   "cell_type": "code",
   "execution_count": 61,
   "metadata": {},
   "outputs": [],
   "source": [
    "top_cust_stations.to_csv(\"topcustomerstations.csv\")"
   ]
  },
  {
   "cell_type": "code",
   "execution_count": 54,
   "metadata": {},
   "outputs": [],
   "source": [
    "names=pd.read_csv(\"allstations.csv\")\n",
    "names.set_index(names['id'],inplace=True)"
   ]
  },
  {
   "cell_type": "code",
   "execution_count": 55,
   "metadata": {},
   "outputs": [],
   "source": [
    "topsub=top_sub_stations.head(10).join(names).drop(columns=['Unnamed: 0','latitude','longitude','id']).rename(columns={'subscriberstationcount':'count',\"name\":\"station\"})"
   ]
  },
  {
   "cell_type": "code",
   "execution_count": 57,
   "metadata": {},
   "outputs": [
    {
     "data": {
      "text/plain": [
       "Text(0.5,1,'Top Subscriber Stations')"
      ]
     },
     "execution_count": 57,
     "metadata": {},
     "output_type": "execute_result"
    },
    {
     "data": {
      "image/png": "[encoded data removed]",
      "text/plain": [
       "<Figure size 432x288 with 1 Axes>"
      ]
     },
     "metadata": {},
     "output_type": "display_data"
    }
   ],
   "source": [
    "sns.barplot(x=\"count\", y=\"station\", data=topsub,\n",
    "            label=\"Total\")\n",
    "plt.title(\"Top Subscriber Stations\")"
   ]
  },
  {
   "cell_type": "code",
   "execution_count": 59,
   "metadata": {},
   "outputs": [],
   "source": [
    "top_cust=top_cust_stations.head(10).join(names).drop(columns=['Unnamed: 0','latitude','longitude','id']).rename(columns={'customerstationcount':'count',\"name\":\"station\"})"
   ]
  },
  {
   "cell_type": "code",
   "execution_count": 60,
   "metadata": {},
   "outputs": [
    {
     "data": {
      "text/plain": [
       "Text(0.5,1,'Top Customer Stations')"
      ]
     },
     "execution_count": 60,
     "metadata": {},
     "output_type": "execute_result"
    },
    {
     "data": {
      "image/png": "[encoded data removed]",
      "text/plain": [
       "<Figure size 432x288 with 1 Axes>"
      ]
     },
     "metadata": {},
     "output_type": "display_data"
    }
   ],
   "source": [
    "sns.barplot(x=\"count\", y=\"station\", data=top_cust,\n",
    "            label=\"Total\")\n",
    "plt.title(\"Top Customer Stations\")"
   ]
  },
  {
   "cell_type": "code",
   "execution_count": null,
   "metadata": {},
   "outputs": [],
   "source": []
  },
  {
   "cell_type": "code",
   "execution_count": null,
   "metadata": {},
   "outputs": [],
   "source": []
  }
 ],
 "metadata": {
  "kernelspec": {
   "display_name": "Python 3",
   "language": "python",
   "name": "python3"
  },
  "language_info": {
   "codemirror_mode": {
    "name": "ipython",
    "version": 3
   },
   "file_extension": ".py",
   "mimetype": "text/x-python",
   "name": "python",
   "nbconvert_exporter": "python",
   "pygments_lexer": "ipython3",
   "version": "3.6.5"
  }
 },
 "nbformat": 4,
 "nbformat_minor": 2
}
